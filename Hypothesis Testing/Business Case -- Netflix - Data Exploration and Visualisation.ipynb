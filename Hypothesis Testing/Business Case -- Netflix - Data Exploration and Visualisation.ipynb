{
 "cells": [
  {
   "cell_type": "code",
   "execution_count": 1,
   "id": "6fc4051a",
   "metadata": {},
   "outputs": [],
   "source": [
    "# Importing all the libraries needed \n",
    "import pandas as pd\n",
    "import numpy as np\n",
    "import seaborn as sns\n",
    "import matplotlib.pyplot as plt"
   ]
  },
  {
   "cell_type": "code",
   "execution_count": 2,
   "id": "4bd9abde",
   "metadata": {},
   "outputs": [],
   "source": [
    "# Read the dataset of Netflix in df\n",
    "df=pd.read_csv(r\"https://d2beiqkhq929f0.cloudfront.net/public_assets/assets/000/000/940/original/netflix.csv\")"
   ]
  },
  {
   "cell_type": "code",
   "execution_count": 3,
   "id": "52dc87b5",
   "metadata": {},
   "outputs": [
    {
     "data": {
      "text/html": [
       "<div>\n",
       "<style scoped>\n",
       "    .dataframe tbody tr th:only-of-type {\n",
       "        vertical-align: middle;\n",
       "    }\n",
       "\n",
       "    .dataframe tbody tr th {\n",
       "        vertical-align: top;\n",
       "    }\n",
       "\n",
       "    .dataframe thead th {\n",
       "        text-align: right;\n",
       "    }\n",
       "</style>\n",
       "<table border=\"1\" class=\"dataframe\">\n",
       "  <thead>\n",
       "    <tr style=\"text-align: right;\">\n",
       "      <th></th>\n",
       "      <th>show_id</th>\n",
       "      <th>type</th>\n",
       "      <th>title</th>\n",
       "      <th>director</th>\n",
       "      <th>cast</th>\n",
       "      <th>country</th>\n",
       "      <th>date_added</th>\n",
       "      <th>release_year</th>\n",
       "      <th>rating</th>\n",
       "      <th>duration</th>\n",
       "      <th>listed_in</th>\n",
       "      <th>description</th>\n",
       "    </tr>\n",
       "  </thead>\n",
       "  <tbody>\n",
       "    <tr>\n",
       "      <th>0</th>\n",
       "      <td>s1</td>\n",
       "      <td>Movie</td>\n",
       "      <td>Dick Johnson Is Dead</td>\n",
       "      <td>Kirsten Johnson</td>\n",
       "      <td>NaN</td>\n",
       "      <td>United States</td>\n",
       "      <td>September 25, 2021</td>\n",
       "      <td>2020</td>\n",
       "      <td>PG-13</td>\n",
       "      <td>90 min</td>\n",
       "      <td>Documentaries</td>\n",
       "      <td>As her father nears the end of his life, filmm...</td>\n",
       "    </tr>\n",
       "    <tr>\n",
       "      <th>1</th>\n",
       "      <td>s2</td>\n",
       "      <td>TV Show</td>\n",
       "      <td>Blood &amp; Water</td>\n",
       "      <td>NaN</td>\n",
       "      <td>Ama Qamata, Khosi Ngema, Gail Mabalane, Thaban...</td>\n",
       "      <td>South Africa</td>\n",
       "      <td>September 24, 2021</td>\n",
       "      <td>2021</td>\n",
       "      <td>TV-MA</td>\n",
       "      <td>2 Seasons</td>\n",
       "      <td>International TV Shows, TV Dramas, TV Mysteries</td>\n",
       "      <td>After crossing paths at a party, a Cape Town t...</td>\n",
       "    </tr>\n",
       "    <tr>\n",
       "      <th>2</th>\n",
       "      <td>s3</td>\n",
       "      <td>TV Show</td>\n",
       "      <td>Ganglands</td>\n",
       "      <td>Julien Leclercq</td>\n",
       "      <td>Sami Bouajila, Tracy Gotoas, Samuel Jouy, Nabi...</td>\n",
       "      <td>NaN</td>\n",
       "      <td>September 24, 2021</td>\n",
       "      <td>2021</td>\n",
       "      <td>TV-MA</td>\n",
       "      <td>1 Season</td>\n",
       "      <td>Crime TV Shows, International TV Shows, TV Act...</td>\n",
       "      <td>To protect his family from a powerful drug lor...</td>\n",
       "    </tr>\n",
       "    <tr>\n",
       "      <th>3</th>\n",
       "      <td>s4</td>\n",
       "      <td>TV Show</td>\n",
       "      <td>Jailbirds New Orleans</td>\n",
       "      <td>NaN</td>\n",
       "      <td>NaN</td>\n",
       "      <td>NaN</td>\n",
       "      <td>September 24, 2021</td>\n",
       "      <td>2021</td>\n",
       "      <td>TV-MA</td>\n",
       "      <td>1 Season</td>\n",
       "      <td>Docuseries, Reality TV</td>\n",
       "      <td>Feuds, flirtations and toilet talk go down amo...</td>\n",
       "    </tr>\n",
       "    <tr>\n",
       "      <th>4</th>\n",
       "      <td>s5</td>\n",
       "      <td>TV Show</td>\n",
       "      <td>Kota Factory</td>\n",
       "      <td>NaN</td>\n",
       "      <td>Mayur More, Jitendra Kumar, Ranjan Raj, Alam K...</td>\n",
       "      <td>India</td>\n",
       "      <td>September 24, 2021</td>\n",
       "      <td>2021</td>\n",
       "      <td>TV-MA</td>\n",
       "      <td>2 Seasons</td>\n",
       "      <td>International TV Shows, Romantic TV Shows, TV ...</td>\n",
       "      <td>In a city of coaching centers known to train I...</td>\n",
       "    </tr>\n",
       "  </tbody>\n",
       "</table>\n",
       "</div>"
      ],
      "text/plain": [
       "  show_id     type                  title         director  \\\n",
       "0      s1    Movie   Dick Johnson Is Dead  Kirsten Johnson   \n",
       "1      s2  TV Show          Blood & Water              NaN   \n",
       "2      s3  TV Show              Ganglands  Julien Leclercq   \n",
       "3      s4  TV Show  Jailbirds New Orleans              NaN   \n",
       "4      s5  TV Show           Kota Factory              NaN   \n",
       "\n",
       "                                                cast        country  \\\n",
       "0                                                NaN  United States   \n",
       "1  Ama Qamata, Khosi Ngema, Gail Mabalane, Thaban...   South Africa   \n",
       "2  Sami Bouajila, Tracy Gotoas, Samuel Jouy, Nabi...            NaN   \n",
       "3                                                NaN            NaN   \n",
       "4  Mayur More, Jitendra Kumar, Ranjan Raj, Alam K...          India   \n",
       "\n",
       "           date_added  release_year rating   duration  \\\n",
       "0  September 25, 2021          2020  PG-13     90 min   \n",
       "1  September 24, 2021          2021  TV-MA  2 Seasons   \n",
       "2  September 24, 2021          2021  TV-MA   1 Season   \n",
       "3  September 24, 2021          2021  TV-MA   1 Season   \n",
       "4  September 24, 2021          2021  TV-MA  2 Seasons   \n",
       "\n",
       "                                           listed_in  \\\n",
       "0                                      Documentaries   \n",
       "1    International TV Shows, TV Dramas, TV Mysteries   \n",
       "2  Crime TV Shows, International TV Shows, TV Act...   \n",
       "3                             Docuseries, Reality TV   \n",
       "4  International TV Shows, Romantic TV Shows, TV ...   \n",
       "\n",
       "                                         description  \n",
       "0  As her father nears the end of his life, filmm...  \n",
       "1  After crossing paths at a party, a Cape Town t...  \n",
       "2  To protect his family from a powerful drug lor...  \n",
       "3  Feuds, flirtations and toilet talk go down amo...  \n",
       "4  In a city of coaching centers known to train I...  "
      ]
     },
     "execution_count": 3,
     "metadata": {},
     "output_type": "execute_result"
    }
   ],
   "source": [
    "# Displaying first 5 rows\n",
    "df.head()"
   ]
  },
  {
   "cell_type": "markdown",
   "id": "9d8ad0be",
   "metadata": {},
   "source": [
    "The dataset lists the TV shows and movies released on Netflix, an American subscription streaming service.\n",
    "\n",
    "1. The data gives details of cast, director, duration etc. and spans across different countries and years\n",
    "2. The goal of this Exploratory Data Analysis is to identify patterns and generate insights that can help Netflix understand which type of shows/movies to produce and how to increase footprint globally"
   ]
  },
  {
   "cell_type": "markdown",
   "id": "564577c0",
   "metadata": {},
   "source": [
    "### 1. Observations"
   ]
  },
  {
   "cell_type": "code",
   "execution_count": 4,
   "id": "ea7773af",
   "metadata": {},
   "outputs": [
    {
     "name": "stdout",
     "output_type": "stream",
     "text": [
      "<class 'pandas.core.frame.DataFrame'>\n",
      "RangeIndex: 8807 entries, 0 to 8806\n",
      "Data columns (total 12 columns):\n",
      " #   Column        Non-Null Count  Dtype \n",
      "---  ------        --------------  ----- \n",
      " 0   show_id       8807 non-null   object\n",
      " 1   type          8807 non-null   object\n",
      " 2   title         8807 non-null   object\n",
      " 3   director      6173 non-null   object\n",
      " 4   cast          7982 non-null   object\n",
      " 5   country       7976 non-null   object\n",
      " 6   date_added    8797 non-null   object\n",
      " 7   release_year  8807 non-null   int64 \n",
      " 8   rating        8803 non-null   object\n",
      " 9   duration      8804 non-null   object\n",
      " 10  listed_in     8807 non-null   object\n",
      " 11  description   8807 non-null   object\n",
      "dtypes: int64(1), object(11)\n",
      "memory usage: 825.8+ KB\n"
     ]
    }
   ],
   "source": [
    "df.info()"
   ]
  },
  {
   "cell_type": "markdown",
   "id": "505856b2",
   "metadata": {},
   "source": [
    "A quick scan of the data gives the following observations.\n",
    "\n",
    "1. The data has 8807 rows and 12 columns with 11 object and 1 int datatype\n",
    "\n",
    "2. Most of the columns have categorical data\n",
    "\n",
    "3. Half of the columns have missing data\n",
    "\n",
    "4. The column, date_added, is of the object data type and needs to be converted to date-time format\n",
    "\n",
    "5. The duration is represented in different metrics"
   ]
  },
  {
   "cell_type": "code",
   "execution_count": 5,
   "id": "b6d84302",
   "metadata": {},
   "outputs": [
    {
     "data": {
      "text/plain": [
       "0                  Kirsten Johnson\n",
       "1                              NaN\n",
       "2                  Julien Leclercq\n",
       "3                              NaN\n",
       "4                              NaN\n",
       "5                    Mike Flanagan\n",
       "6    Robert Cullen, José Luis Ucha\n",
       "7                     Haile Gerima\n",
       "8                  Andy Devonshire\n",
       "9                   Theodore Melfi\n",
       "Name: director, dtype: object"
      ]
     },
     "execution_count": 5,
     "metadata": {},
     "output_type": "execute_result"
    }
   ],
   "source": [
    "df[\"director\"].head(10)"
   ]
  },
  {
   "cell_type": "markdown",
   "id": "8fd5af6d",
   "metadata": {},
   "source": [
    "#### Columns like director, cast, country and listed_in have nested values which need to be separated for effective analysis"
   ]
  },
  {
   "cell_type": "code",
   "execution_count": 6,
   "id": "36d9e0ba",
   "metadata": {},
   "outputs": [
    {
     "name": "stdout",
     "output_type": "stream",
     "text": [
      "0\n",
      "0\n",
      "0\n",
      "0\n"
     ]
    }
   ],
   "source": [
    "# Checking for duplicate and nan values in title and show_id columns\n",
    "print(df[\"title\"].duplicated().sum())\n",
    "print(df[\"show_id\"].duplicated().sum())\n",
    "print(df[\"title\"].isna().sum())\n",
    "print(df[\"show_id\"].isna().sum())"
   ]
  },
  {
   "cell_type": "markdown",
   "id": "48eecc49",
   "metadata": {},
   "source": [
    "#### The rows have unique show_id and title"
   ]
  },
  {
   "cell_type": "code",
   "execution_count": 7,
   "id": "ecbcec6b",
   "metadata": {},
   "outputs": [
    {
     "data": {
      "text/plain": [
       "show_id          0.000000\n",
       "type             0.000000\n",
       "title            0.000000\n",
       "director        29.908028\n",
       "cast             9.367549\n",
       "country          9.435676\n",
       "date_added       0.113546\n",
       "release_year     0.000000\n",
       "rating           0.045418\n",
       "duration         0.034064\n",
       "listed_in        0.000000\n",
       "description      0.000000\n",
       "dtype: float64"
      ]
     },
     "execution_count": 7,
     "metadata": {},
     "output_type": "execute_result"
    }
   ],
   "source": [
    "# Find percentage of missing values\n",
    "df.isna().sum()/len(df)*100"
   ]
  },
  {
   "cell_type": "markdown",
   "id": "df3eaa8e",
   "metadata": {},
   "source": [
    "#### director column has a high percentage of missing values followed by country and cast"
   ]
  },
  {
   "cell_type": "code",
   "execution_count": 8,
   "id": "ea06db0f",
   "metadata": {},
   "outputs": [
    {
     "data": {
      "text/html": [
       "<div>\n",
       "<style scoped>\n",
       "    .dataframe tbody tr th:only-of-type {\n",
       "        vertical-align: middle;\n",
       "    }\n",
       "\n",
       "    .dataframe tbody tr th {\n",
       "        vertical-align: top;\n",
       "    }\n",
       "\n",
       "    .dataframe thead th {\n",
       "        text-align: right;\n",
       "    }\n",
       "</style>\n",
       "<table border=\"1\" class=\"dataframe\">\n",
       "  <thead>\n",
       "    <tr style=\"text-align: right;\">\n",
       "      <th></th>\n",
       "      <th>release_year</th>\n",
       "    </tr>\n",
       "  </thead>\n",
       "  <tbody>\n",
       "    <tr>\n",
       "      <th>count</th>\n",
       "      <td>8807.000000</td>\n",
       "    </tr>\n",
       "    <tr>\n",
       "      <th>mean</th>\n",
       "      <td>2014.180198</td>\n",
       "    </tr>\n",
       "    <tr>\n",
       "      <th>std</th>\n",
       "      <td>8.819312</td>\n",
       "    </tr>\n",
       "    <tr>\n",
       "      <th>min</th>\n",
       "      <td>1925.000000</td>\n",
       "    </tr>\n",
       "    <tr>\n",
       "      <th>25%</th>\n",
       "      <td>2013.000000</td>\n",
       "    </tr>\n",
       "    <tr>\n",
       "      <th>50%</th>\n",
       "      <td>2017.000000</td>\n",
       "    </tr>\n",
       "    <tr>\n",
       "      <th>75%</th>\n",
       "      <td>2019.000000</td>\n",
       "    </tr>\n",
       "    <tr>\n",
       "      <th>max</th>\n",
       "      <td>2021.000000</td>\n",
       "    </tr>\n",
       "  </tbody>\n",
       "</table>\n",
       "</div>"
      ],
      "text/plain": [
       "       release_year\n",
       "count   8807.000000\n",
       "mean    2014.180198\n",
       "std        8.819312\n",
       "min     1925.000000\n",
       "25%     2013.000000\n",
       "50%     2017.000000\n",
       "75%     2019.000000\n",
       "max     2021.000000"
      ]
     },
     "execution_count": 8,
     "metadata": {},
     "output_type": "execute_result"
    }
   ],
   "source": [
    "df.describe()"
   ]
  },
  {
   "cell_type": "markdown",
   "id": "85728ec9",
   "metadata": {},
   "source": [
    "The statistical analysis of release_year reveals that there are movies/TV Shows released as early as 1925 and latest in 2021.\n",
    "\n",
    "50% of content on Netflix was released before 2017 and the remaining 50% in the next 5 years"
   ]
  },
  {
   "cell_type": "markdown",
   "id": "f8b7cdae",
   "metadata": {},
   "source": [
    "### 2. Univariate Analysis"
   ]
  },
  {
   "cell_type": "code",
   "execution_count": 9,
   "id": "82e8332c",
   "metadata": {},
   "outputs": [
    {
     "data": {
      "text/plain": [
       "Movie      69.615079\n",
       "TV Show    30.384921\n",
       "Name: type, dtype: float64"
      ]
     },
     "execution_count": 9,
     "metadata": {},
     "output_type": "execute_result"
    }
   ],
   "source": [
    "df[\"type\"].value_counts()/len(df[\"type\"])*100"
   ]
  },
  {
   "cell_type": "code",
   "execution_count": 10,
   "id": "d0cda3e7",
   "metadata": {},
   "outputs": [
    {
     "data": {
      "image/png": "[encoded data removed]",
      "text/plain": [
       "<Figure size 432x288 with 1 Axes>"
      ]
     },
     "metadata": {
      "needs_background": "light"
     },
     "output_type": "display_data"
    }
   ],
   "source": [
    "sns.countplot(data=df,x=df[\"type\"])\n",
    "plt.title(\"Comparison of Movies and TV Shows\")\n",
    "plt.show()"
   ]
  },
  {
   "cell_type": "code",
   "execution_count": 11,
   "id": "0e5f63d1",
   "metadata": {},
   "outputs": [],
   "source": [
    "df[\"rating\"].replace(to_replace=[\"74 min\",\"84 min\",\"66 min\"],value=np.nan,inplace=True)"
   ]
  },
  {
   "cell_type": "code",
   "execution_count": 12,
   "id": "0a6dd277",
   "metadata": {},
   "outputs": [
    {
     "data": {
      "image/png": "[encoded data removed]",
      "text/plain": [
       "<Figure size 720x360 with 1 Axes>"
      ]
     },
     "metadata": {
      "needs_background": "light"
     },
     "output_type": "display_data"
    }
   ],
   "source": [
    "fig,ax=plt.subplots(figsize=(10,5))\n",
    "sns.countplot(data=df,x=df[\"rating\"],hue=df[\"type\"])\n",
    "plt.title(\"Frequency of Ratings\")\n",
    "plt.show()"
   ]
  },
  {
   "cell_type": "markdown",
   "id": "655b372d",
   "metadata": {},
   "source": [
    "1. Netflix has nearly 70% of its content as Movies and remaining 30% as TV shows\n",
    "2. Majority of Netflix's Movies and TV shows are aimed at Mature Audience(TV-MA) followed by teenagers(TV-14)"
   ]
  },
  {
   "cell_type": "code",
   "execution_count": 13,
   "id": "b9555bc8",
   "metadata": {},
   "outputs": [
    {
     "data": {
      "text/plain": [
       "15.158396729873964"
      ]
     },
     "execution_count": 13,
     "metadata": {},
     "output_type": "execute_result"
    }
   ],
   "source": [
    "# % of movies that were released before 2010\n",
    "df[df[\"release_year\"]<2010][\"title\"].count()/len(df[\"title\"])*100"
   ]
  },
  {
   "cell_type": "code",
   "execution_count": 14,
   "id": "233727b2",
   "metadata": {},
   "outputs": [
    {
     "data": {
      "image/png": "[encoded data removed]",
      "text/plain": [
       "<Figure size 1440x360 with 1 Axes>"
      ]
     },
     "metadata": {
      "needs_background": "light"
     },
     "output_type": "display_data"
    }
   ],
   "source": [
    "fig,ax=plt.subplots(figsize=(20,5))\n",
    "sns.histplot(data=df,x=df[\"release_year\"],kde=True)\n",
    "plt.title(\"Movie/TV Show Release trends across years\")\n",
    "plt.show()"
   ]
  },
  {
   "cell_type": "code",
   "execution_count": 15,
   "id": "579b70fe",
   "metadata": {},
   "outputs": [],
   "source": [
    "# Changing datatype of date_added column\n",
    "df[\"date_added\"]=pd.to_datetime(df[\"date_added\"])"
   ]
  },
  {
   "cell_type": "code",
   "execution_count": 16,
   "id": "9bd2bf2d",
   "metadata": {},
   "outputs": [
    {
     "data": {
      "image/png": "[encoded data removed]",
      "text/plain": [
       "<Figure size 720x360 with 1 Axes>"
      ]
     },
     "metadata": {
      "needs_background": "light"
     },
     "output_type": "display_data"
    }
   ],
   "source": [
    "fig,ax=plt.subplots(figsize=(10,5))\n",
    "sns.countplot(data=df,x=df[\"date_added\"].dt.year,hue=df[\"type\"])\n",
    "plt.title(\"Frequency of content added across years\")\n",
    "plt.show()"
   ]
  },
  {
   "cell_type": "markdown",
   "id": "e6fb6b1f",
   "metadata": {},
   "source": [
    "1. Netflix focuses on latest movies and TV shows more, with movies released before 2010 only making 15% of the total\n",
    "2. The maximum amount of content released was in 2018 and it saw a sharp decline post that.\n",
    "3. The content added on Netflix also sees a downward trend after 2019 with a steeper slope for movies than TV shows"
   ]
  },
  {
   "cell_type": "markdown",
   "id": "b300efdd",
   "metadata": {},
   "source": [
    "### 3. Data Preprocessing"
   ]
  },
  {
   "cell_type": "markdown",
   "id": "96942e8a",
   "metadata": {},
   "source": [
    "#### 3.1 Duration Column"
   ]
  },
  {
   "cell_type": "code",
   "execution_count": 17,
   "id": "54aadfee",
   "metadata": {},
   "outputs": [],
   "source": [
    "# Splitting the duration into 2 columns to separate out minutes and seasons\n",
    "value=df[\"duration\"].apply(lambda x: str(x).split()).tolist()\n",
    "# Creating a new dataframe with value and reset index\n",
    "df_new=pd.DataFrame(value,index=df[\"title\"],columns=[\"duration\",\"duration_metric\"])\n",
    "df_new.reset_index(inplace=True)\n",
    "\n",
    "# Drop duration column from df and merge it with new dataframe\n",
    "df.drop(columns=[\"duration\"],inplace=True)\n",
    "df=df.merge(df_new,on=\"title\")"
   ]
  },
  {
   "cell_type": "code",
   "execution_count": 18,
   "id": "3eea96ee",
   "metadata": {},
   "outputs": [
    {
     "data": {
      "text/plain": [
       "min        6128\n",
       "Season     1793\n",
       "Seasons     883\n",
       "Name: duration_metric, dtype: int64"
      ]
     },
     "execution_count": 18,
     "metadata": {},
     "output_type": "execute_result"
    }
   ],
   "source": [
    "# Finding values of duration metric\n",
    "df[\"duration_metric\"].value_counts()"
   ]
  },
  {
   "cell_type": "code",
   "execution_count": 19,
   "id": "45ae1402",
   "metadata": {},
   "outputs": [
    {
     "data": {
      "text/plain": [
       "min       6128\n",
       "Season    2676\n",
       "Name: duration_metric, dtype: int64"
      ]
     },
     "execution_count": 19,
     "metadata": {},
     "output_type": "execute_result"
    }
   ],
   "source": [
    "# Replacing Seasons with Season for effective analysis\n",
    "df[\"duration_metric\"].replace(to_replace=\"Seasons\", value=\"Season\",inplace=True)\n",
    "df[\"duration_metric\"].value_counts()"
   ]
  },
  {
   "cell_type": "code",
   "execution_count": 20,
   "id": "3c630dd8",
   "metadata": {},
   "outputs": [],
   "source": [
    "# Converting duration to float datatype\n",
    "df[\"duration\"].replace(to_replace=\"nan\", value=np.nan,inplace=True)\n",
    "df[\"duration\"]=df[\"duration\"].astype(\"float32\")"
   ]
  },
  {
   "cell_type": "markdown",
   "id": "2b410cb0",
   "metadata": {},
   "source": [
    "#### 3.2 Removing Nested values"
   ]
  },
  {
   "cell_type": "code",
   "execution_count": 21,
   "id": "3a49d0f5",
   "metadata": {},
   "outputs": [],
   "source": [
    "# Splitting the values in cast column in the variable value1 \n",
    "value1=df['cast'].apply(lambda x: str(x).split(', ')).tolist() \n",
    "# Updating the title column as index and converting it to a DataFrame\n",
    "df_new=pd.DataFrame(value1,index=df['title']) \n",
    "\n",
    "# Melting the columns\n",
    "df_new=df_new.melt(ignore_index=False,value_name=\"cast\")\n",
    "# Drop the variable column, reset index and drop None values\n",
    "df_new.drop(columns=[\"variable\"],inplace=True)\n",
    "df_new=df_new.reset_index()\n",
    "df_new=df_new.replace(to_replace=\"None\", value=np.nan).dropna()\n",
    "\n",
    "# Dropping the cast column from original DataFrame\n",
    "df.drop(columns=[\"cast\"],inplace=True)\n",
    "\n",
    "# Merging new cast column with df\n",
    "df=df.merge(df_new,on=\"title\")"
   ]
  },
  {
   "cell_type": "code",
   "execution_count": 22,
   "id": "63a6dba9",
   "metadata": {},
   "outputs": [],
   "source": [
    "# Removing nested values for director column\n",
    "value1=df[\"director\"].apply(lambda x:str(x).split(\", \")).tolist()\n",
    "df_new=pd.DataFrame(value1,index=df[\"title\"])\n",
    "\n",
    "# Melting the columns\n",
    "df_new=df_new.melt(ignore_index=False,value_name=\"director\")\n",
    "\n",
    "# Drop variable column\n",
    "df_new.drop(columns=[\"variable\"],inplace=True)\n",
    "\n",
    "# Reset index, drop None values and drop duplicates\n",
    "df_new.reset_index(inplace=True)\n",
    "df_new=df_new.replace(to_replace=\"None\",value=np.nan).dropna()\n",
    "df_new.drop_duplicates(inplace=True)\n",
    "\n",
    "# Drop director column from df and merge with new dataframe\n",
    "df.drop(columns=[\"director\"],inplace=True)\n",
    "df=df.merge(df_new,on=\"title\")"
   ]
  },
  {
   "cell_type": "code",
   "execution_count": 23,
   "id": "03b8a4bc",
   "metadata": {},
   "outputs": [],
   "source": [
    "# Removing nested values for listed_in column\n",
    "value1=df[\"listed_in\"].apply(lambda x:str(x).split(\", \")).tolist()\n",
    "df_new=pd.DataFrame(value1,index=df[\"title\"])\n",
    "\n",
    "# Stacking all the column values and creating a dataframe\n",
    "df_new=df_new.stack()\n",
    "df_new=pd.DataFrame(df_new)\n",
    "\n",
    "# Reset index \n",
    "df_new.reset_index(inplace=True)\n",
    "\n",
    "# Drop level_1 column and update column names \n",
    "df_new.drop(columns=[\"level_1\"],inplace=True)\n",
    "df_new.columns=[\"title\",\"listed_in\"]\n",
    "\n",
    "# Drop duplicate values\n",
    "df_new.drop_duplicates(inplace=True)\n",
    "\n",
    "# Drop listed_in column and merge with new df\n",
    "df.drop(columns=[\"listed_in\"],inplace=True)\n",
    "df=df.merge(df_new,on=\"title\")"
   ]
  },
  {
   "cell_type": "code",
   "execution_count": 24,
   "id": "2c84b846",
   "metadata": {},
   "outputs": [
    {
     "data": {
      "text/html": [
       "<div>\n",
       "<style scoped>\n",
       "    .dataframe tbody tr th:only-of-type {\n",
       "        vertical-align: middle;\n",
       "    }\n",
       "\n",
       "    .dataframe tbody tr th {\n",
       "        vertical-align: top;\n",
       "    }\n",
       "\n",
       "    .dataframe thead th {\n",
       "        text-align: right;\n",
       "    }\n",
       "</style>\n",
       "<table border=\"1\" class=\"dataframe\">\n",
       "  <thead>\n",
       "    <tr style=\"text-align: right;\">\n",
       "      <th></th>\n",
       "      <th>show_id</th>\n",
       "      <th>type</th>\n",
       "      <th>title</th>\n",
       "      <th>date_added</th>\n",
       "      <th>release_year</th>\n",
       "      <th>rating</th>\n",
       "      <th>description</th>\n",
       "      <th>duration</th>\n",
       "      <th>duration_metric</th>\n",
       "      <th>cast</th>\n",
       "      <th>director</th>\n",
       "      <th>listed_in</th>\n",
       "      <th>country</th>\n",
       "    </tr>\n",
       "  </thead>\n",
       "  <tbody>\n",
       "    <tr>\n",
       "      <th>0</th>\n",
       "      <td>s1</td>\n",
       "      <td>Movie</td>\n",
       "      <td>Dick Johnson Is Dead</td>\n",
       "      <td>2021-09-25</td>\n",
       "      <td>2020</td>\n",
       "      <td>PG-13</td>\n",
       "      <td>As her father nears the end of his life, filmm...</td>\n",
       "      <td>90.0</td>\n",
       "      <td>min</td>\n",
       "      <td>nan</td>\n",
       "      <td>Kirsten Johnson</td>\n",
       "      <td>Documentaries</td>\n",
       "      <td>United States</td>\n",
       "    </tr>\n",
       "    <tr>\n",
       "      <th>1</th>\n",
       "      <td>s2</td>\n",
       "      <td>TV Show</td>\n",
       "      <td>Blood &amp; Water</td>\n",
       "      <td>2021-09-24</td>\n",
       "      <td>2021</td>\n",
       "      <td>TV-MA</td>\n",
       "      <td>After crossing paths at a party, a Cape Town t...</td>\n",
       "      <td>2.0</td>\n",
       "      <td>Season</td>\n",
       "      <td>Ama Qamata</td>\n",
       "      <td>nan</td>\n",
       "      <td>International TV Shows</td>\n",
       "      <td>South Africa</td>\n",
       "    </tr>\n",
       "    <tr>\n",
       "      <th>2</th>\n",
       "      <td>s2</td>\n",
       "      <td>TV Show</td>\n",
       "      <td>Blood &amp; Water</td>\n",
       "      <td>2021-09-24</td>\n",
       "      <td>2021</td>\n",
       "      <td>TV-MA</td>\n",
       "      <td>After crossing paths at a party, a Cape Town t...</td>\n",
       "      <td>2.0</td>\n",
       "      <td>Season</td>\n",
       "      <td>Ama Qamata</td>\n",
       "      <td>nan</td>\n",
       "      <td>TV Dramas</td>\n",
       "      <td>South Africa</td>\n",
       "    </tr>\n",
       "    <tr>\n",
       "      <th>3</th>\n",
       "      <td>s2</td>\n",
       "      <td>TV Show</td>\n",
       "      <td>Blood &amp; Water</td>\n",
       "      <td>2021-09-24</td>\n",
       "      <td>2021</td>\n",
       "      <td>TV-MA</td>\n",
       "      <td>After crossing paths at a party, a Cape Town t...</td>\n",
       "      <td>2.0</td>\n",
       "      <td>Season</td>\n",
       "      <td>Ama Qamata</td>\n",
       "      <td>nan</td>\n",
       "      <td>TV Mysteries</td>\n",
       "      <td>South Africa</td>\n",
       "    </tr>\n",
       "    <tr>\n",
       "      <th>4</th>\n",
       "      <td>s2</td>\n",
       "      <td>TV Show</td>\n",
       "      <td>Blood &amp; Water</td>\n",
       "      <td>2021-09-24</td>\n",
       "      <td>2021</td>\n",
       "      <td>TV-MA</td>\n",
       "      <td>After crossing paths at a party, a Cape Town t...</td>\n",
       "      <td>2.0</td>\n",
       "      <td>Season</td>\n",
       "      <td>Khosi Ngema</td>\n",
       "      <td>nan</td>\n",
       "      <td>International TV Shows</td>\n",
       "      <td>South Africa</td>\n",
       "    </tr>\n",
       "  </tbody>\n",
       "</table>\n",
       "</div>"
      ],
      "text/plain": [
       "  show_id     type                 title date_added  release_year rating  \\\n",
       "0      s1    Movie  Dick Johnson Is Dead 2021-09-25          2020  PG-13   \n",
       "1      s2  TV Show         Blood & Water 2021-09-24          2021  TV-MA   \n",
       "2      s2  TV Show         Blood & Water 2021-09-24          2021  TV-MA   \n",
       "3      s2  TV Show         Blood & Water 2021-09-24          2021  TV-MA   \n",
       "4      s2  TV Show         Blood & Water 2021-09-24          2021  TV-MA   \n",
       "\n",
       "                                         description  duration  \\\n",
       "0  As her father nears the end of his life, filmm...      90.0   \n",
       "1  After crossing paths at a party, a Cape Town t...       2.0   \n",
       "2  After crossing paths at a party, a Cape Town t...       2.0   \n",
       "3  After crossing paths at a party, a Cape Town t...       2.0   \n",
       "4  After crossing paths at a party, a Cape Town t...       2.0   \n",
       "\n",
       "  duration_metric         cast         director               listed_in  \\\n",
       "0             min          nan  Kirsten Johnson           Documentaries   \n",
       "1          Season   Ama Qamata              nan  International TV Shows   \n",
       "2          Season   Ama Qamata              nan               TV Dramas   \n",
       "3          Season   Ama Qamata              nan            TV Mysteries   \n",
       "4          Season  Khosi Ngema              nan  International TV Shows   \n",
       "\n",
       "         country  \n",
       "0  United States  \n",
       "1   South Africa  \n",
       "2   South Africa  \n",
       "3   South Africa  \n",
       "4   South Africa  "
      ]
     },
     "execution_count": 24,
     "metadata": {},
     "output_type": "execute_result"
    }
   ],
   "source": [
    "# Removing nested values for country column\n",
    "value1=df[\"country\"].apply(lambda x:str(x).split(\", \")).tolist()\n",
    "df_new=pd.DataFrame(value1,index=df[\"title\"])\n",
    "\n",
    "# Stacking all the column values and creating a dataframe\n",
    "df_new=df_new.stack()\n",
    "df_new=pd.DataFrame(df_new)\n",
    "\n",
    "# Reset index \n",
    "df_new.reset_index(inplace=True)\n",
    "\n",
    "# Drop level_1 column and update column names \n",
    "df_new.drop(columns=[\"level_1\"],inplace=True)\n",
    "df_new.columns=[\"title\",\"country\"]\n",
    "\n",
    "# Drop duplicate values\n",
    "df_new.drop_duplicates(inplace=True)\n",
    "\n",
    "# Drop country column in df and merge with new df\n",
    "df.drop(columns=[\"country\"],inplace=True)\n",
    "df=df.merge(df_new,on=\"title\")\n",
    "df.head()"
   ]
  },
  {
   "cell_type": "markdown",
   "id": "e66b22bd",
   "metadata": {},
   "source": [
    "#### 3.3 Fill missing values"
   ]
  },
  {
   "cell_type": "code",
   "execution_count": 25,
   "id": "2688bea4",
   "metadata": {},
   "outputs": [],
   "source": [
    "# Replace \"nan\" with np.nan\n",
    "df.replace(to_replace=\"nan\",value=np.nan,inplace=True)"
   ]
  },
  {
   "cell_type": "code",
   "execution_count": 26,
   "id": "580a09b4",
   "metadata": {},
   "outputs": [
    {
     "data": {
      "text/plain": [
       "show_id             0.000000\n",
       "type                0.000000\n",
       "title               0.000000\n",
       "date_added          0.078240\n",
       "release_year        0.000000\n",
       "rating              0.034663\n",
       "description         0.000000\n",
       "duration            0.001486\n",
       "duration_metric     0.001486\n",
       "cast                1.062676\n",
       "director           25.077869\n",
       "listed_in           0.000000\n",
       "country             5.891266\n",
       "dtype: float64"
      ]
     },
     "execution_count": 26,
     "metadata": {},
     "output_type": "execute_result"
    }
   ],
   "source": [
    "# Find % of missing values\n",
    "df.isna().sum()/len(df)*100"
   ]
  },
  {
   "cell_type": "code",
   "execution_count": 27,
   "id": "b862c9e7",
   "metadata": {},
   "outputs": [],
   "source": [
    "# Imputing missing values in duration with mean after grouping by dependant column(type)\n",
    "df[\"duration\"]=df.groupby(\"type\")[\"duration\"].apply(lambda x : x.fillna(x.mean()))"
   ]
  },
  {
   "cell_type": "code",
   "execution_count": 28,
   "id": "f916da39",
   "metadata": {},
   "outputs": [],
   "source": [
    "# Imputing missing values in date_added with mode\n",
    "df[\"duration\"].fillna(df[\"duration\"].mode(),inplace=True)"
   ]
  },
  {
   "cell_type": "code",
   "execution_count": 29,
   "id": "1e76a123",
   "metadata": {},
   "outputs": [],
   "source": [
    "# Imputing missing values of country with mode\n",
    "df[\"country\"]=df.groupby(\"type\")[\"country\"].apply(lambda x : x.fillna(x.mode().iloc[0]))\n"
   ]
  },
  {
   "cell_type": "code",
   "execution_count": 30,
   "id": "0b124348",
   "metadata": {},
   "outputs": [],
   "source": [
    "# Replacing missing values in remaining columns with Not Known\n",
    "df.fillna(\"Not Known\",inplace=True)"
   ]
  },
  {
   "cell_type": "code",
   "execution_count": 31,
   "id": "a48fd80c",
   "metadata": {},
   "outputs": [],
   "source": [
    "a=df.groupby(\"country\")[\"title\"].nunique().sort_values(ascending=False)\n",
    "a=a[:10]"
   ]
  },
  {
   "cell_type": "code",
   "execution_count": 32,
   "id": "ab93a9a7",
   "metadata": {},
   "outputs": [
    {
     "name": "stderr",
     "output_type": "stream",
     "text": [
      "C:\\ProgramData\\Anaconda3\\lib\\site-packages\\seaborn\\_decorators.py:36: FutureWarning: Pass the following variables as keyword args: x, y. From version 0.12, the only valid positional argument will be `data`, and passing other arguments without an explicit keyword will result in an error or misinterpretation.\n",
      "  warnings.warn(\n"
     ]
    },
    {
     "data": {
      "image/png": "[encoded data removed]",
      "text/plain": [
       "<Figure size 1080x360 with 1 Axes>"
      ]
     },
     "metadata": {
      "needs_background": "light"
     },
     "output_type": "display_data"
    }
   ],
   "source": [
    "fig,ax=plt.subplots(figsize=(15,5))\n",
    "sns.barplot(a.index,a.values)\n",
    "plt.title(\"Top 10 countries with highest number of titles\")\n",
    "plt.ylabel(\"Titles\")\n",
    "plt.show()"
   ]
  },
  {
   "cell_type": "markdown",
   "id": "38623882",
   "metadata": {},
   "source": [
    "United States has the highest amount of content created followed by India and United Kingdom"
   ]
  },
  {
   "cell_type": "markdown",
   "id": "f9ce19ad",
   "metadata": {},
   "source": [
    "### 4. Bivariate Analysis"
   ]
  },
  {
   "cell_type": "code",
   "execution_count": 33,
   "id": "31ec8c17",
   "metadata": {},
   "outputs": [
    {
     "data": {
      "image/png": "[encoded data removed]",
      "text/plain": [
       "<Figure size 432x288 with 1 Axes>"
      ]
     },
     "metadata": {
      "needs_background": "light"
     },
     "output_type": "display_data"
    }
   ],
   "source": [
    "a=df[df[\"type\"]==\"Movie\"].groupby(\"title\")[\"duration\"].mean()\n",
    "sns.boxplot(x=a.values)\n",
    "plt.title(\"Mean duration of Movies\")\n",
    "plt.show()"
   ]
  },
  {
   "cell_type": "code",
   "execution_count": 34,
   "id": "38ec6d22",
   "metadata": {},
   "outputs": [
    {
     "data": {
      "image/png": "[encoded data removed]",
      "text/plain": [
       "<Figure size 432x288 with 1 Axes>"
      ]
     },
     "metadata": {
      "needs_background": "light"
     },
     "output_type": "display_data"
    }
   ],
   "source": [
    "b=df[df[\"type\"]==\"TV Show\"].groupby(\"title\")[\"duration\"].mean()\n",
    "sns.histplot(b.values,bins=[0,5,20])\n",
    "plt.title(\"Distribution of duration - TV Shows\")\n",
    "plt.show()"
   ]
  },
  {
   "cell_type": "markdown",
   "id": "4c9f70b6",
   "metadata": {},
   "source": [
    "1. The mean duration of movies in Netflix is approximately 90 minutes\n",
    "2. Most TV shows have less than 5 Seasons and a very small proportion has between 5 and 20 Seasons"
   ]
  },
  {
   "cell_type": "code",
   "execution_count": 35,
   "id": "eede75e3",
   "metadata": {},
   "outputs": [
    {
     "name": "stderr",
     "output_type": "stream",
     "text": [
      "C:\\ProgramData\\Anaconda3\\lib\\site-packages\\seaborn\\_decorators.py:36: FutureWarning: Pass the following variables as keyword args: x, y. From version 0.12, the only valid positional argument will be `data`, and passing other arguments without an explicit keyword will result in an error or misinterpretation.\n",
      "  warnings.warn(\n"
     ]
    },
    {
     "data": {
      "image/png": "[encoded data removed]",
      "text/plain": [
       "<Figure size 720x360 with 1 Axes>"
      ]
     },
     "metadata": {
      "needs_background": "light"
     },
     "output_type": "display_data"
    }
   ],
   "source": [
    "a=df[df[\"type\"]==\"Movie\"].groupby(\"cast\")[\"title\"].nunique().sort_values(ascending=False)\n",
    "a=a[1:6]\n",
    "fig,ax=plt.subplots(figsize=(10,5))\n",
    "sns.barplot(a.index,a.values)\n",
    "plt.title(\"Top 5 Popular Actors - Movies\")\n",
    "plt.show()"
   ]
  },
  {
   "cell_type": "code",
   "execution_count": 36,
   "id": "a21ab103",
   "metadata": {},
   "outputs": [
    {
     "data": {
      "text/html": [
       "<div>\n",
       "<style scoped>\n",
       "    .dataframe tbody tr th:only-of-type {\n",
       "        vertical-align: middle;\n",
       "    }\n",
       "\n",
       "    .dataframe tbody tr th {\n",
       "        vertical-align: top;\n",
       "    }\n",
       "\n",
       "    .dataframe thead th {\n",
       "        text-align: right;\n",
       "    }\n",
       "</style>\n",
       "<table border=\"1\" class=\"dataframe\">\n",
       "  <thead>\n",
       "    <tr style=\"text-align: right;\">\n",
       "      <th></th>\n",
       "      <th>title</th>\n",
       "      <th>country</th>\n",
       "    </tr>\n",
       "    <tr>\n",
       "      <th>cast</th>\n",
       "      <th></th>\n",
       "      <th></th>\n",
       "    </tr>\n",
       "  </thead>\n",
       "  <tbody>\n",
       "    <tr>\n",
       "      <th>Not Known</th>\n",
       "      <td>475</td>\n",
       "      <td>United States</td>\n",
       "    </tr>\n",
       "    <tr>\n",
       "      <th>Anupam Kher</th>\n",
       "      <td>42</td>\n",
       "      <td>India</td>\n",
       "    </tr>\n",
       "    <tr>\n",
       "      <th>Shah Rukh Khan</th>\n",
       "      <td>35</td>\n",
       "      <td>India</td>\n",
       "    </tr>\n",
       "    <tr>\n",
       "      <th>Naseeruddin Shah</th>\n",
       "      <td>32</td>\n",
       "      <td>India</td>\n",
       "    </tr>\n",
       "    <tr>\n",
       "      <th>Om Puri</th>\n",
       "      <td>30</td>\n",
       "      <td>India</td>\n",
       "    </tr>\n",
       "    <tr>\n",
       "      <th>...</th>\n",
       "      <td>...</td>\n",
       "      <td>...</td>\n",
       "    </tr>\n",
       "    <tr>\n",
       "      <th>Jacob Blair</th>\n",
       "      <td>1</td>\n",
       "      <td>[Canada, United States]</td>\n",
       "    </tr>\n",
       "    <tr>\n",
       "      <th>Jacob Bertrand</th>\n",
       "      <td>1</td>\n",
       "      <td>[Canada, United States]</td>\n",
       "    </tr>\n",
       "    <tr>\n",
       "      <th>Jacob Batalon</th>\n",
       "      <td>1</td>\n",
       "      <td>United States</td>\n",
       "    </tr>\n",
       "    <tr>\n",
       "      <th>Jacob Artist</th>\n",
       "      <td>1</td>\n",
       "      <td>United States</td>\n",
       "    </tr>\n",
       "    <tr>\n",
       "      <th>Ṣọpẹ́ Dìrísù</th>\n",
       "      <td>1</td>\n",
       "      <td>United Kingdom</td>\n",
       "    </tr>\n",
       "  </tbody>\n",
       "</table>\n",
       "<p>25952 rows × 2 columns</p>\n",
       "</div>"
      ],
      "text/plain": [
       "                  title                  country\n",
       "cast                                            \n",
       "Not Known           475            United States\n",
       "Anupam Kher          42                    India\n",
       "Shah Rukh Khan       35                    India\n",
       "Naseeruddin Shah     32                    India\n",
       "Om Puri              30                    India\n",
       "...                 ...                      ...\n",
       "Jacob Blair           1  [Canada, United States]\n",
       "Jacob Bertrand        1  [Canada, United States]\n",
       "Jacob Batalon         1            United States\n",
       "Jacob Artist          1            United States\n",
       "Ṣọpẹ́ Dìrísù          1           United Kingdom\n",
       "\n",
       "[25952 rows x 2 columns]"
      ]
     },
     "execution_count": 36,
     "metadata": {},
     "output_type": "execute_result"
    }
   ],
   "source": [
    "df[df[\"type\"]==\"Movie\"].groupby(\"cast\").agg({\"title\":\"nunique\",\"country\": pd.Series.mode}).sort_values(by=\"title\",ascending=False)"
   ]
  },
  {
   "cell_type": "markdown",
   "id": "8a2d0c0e",
   "metadata": {},
   "source": [
    "Anupam Kher, Shahrukh Khan and Naseeruddin Shah are the popular movie actors with respect to the number of titles. The top 5 names are from India"
   ]
  },
  {
   "cell_type": "code",
   "execution_count": 37,
   "id": "5375a9ec",
   "metadata": {},
   "outputs": [
    {
     "name": "stderr",
     "output_type": "stream",
     "text": [
      "C:\\ProgramData\\Anaconda3\\lib\\site-packages\\seaborn\\_decorators.py:36: FutureWarning: Pass the following variables as keyword args: x, y. From version 0.12, the only valid positional argument will be `data`, and passing other arguments without an explicit keyword will result in an error or misinterpretation.\n",
      "  warnings.warn(\n"
     ]
    },
    {
     "data": {
      "image/png": "[encoded data removed]",
      "text/plain": [
       "<Figure size 720x360 with 1 Axes>"
      ]
     },
     "metadata": {
      "needs_background": "light"
     },
     "output_type": "display_data"
    }
   ],
   "source": [
    "a=df[df[\"type\"]==\"TV Show\"].groupby(\"cast\")[\"title\"].nunique().sort_values(ascending=False)\n",
    "a=a[1:6]\n",
    "fig,ax=plt.subplots(figsize=(10,5))\n",
    "sns.barplot(a.index,a.values)\n",
    "plt.title(\"Top 5 Popular Actors - TV Shows\")\n",
    "plt.show()"
   ]
  },
  {
   "cell_type": "code",
   "execution_count": 38,
   "id": "0cd12f18",
   "metadata": {},
   "outputs": [
    {
     "data": {
      "text/html": [
       "<div>\n",
       "<style scoped>\n",
       "    .dataframe tbody tr th:only-of-type {\n",
       "        vertical-align: middle;\n",
       "    }\n",
       "\n",
       "    .dataframe tbody tr th {\n",
       "        vertical-align: top;\n",
       "    }\n",
       "\n",
       "    .dataframe thead th {\n",
       "        text-align: right;\n",
       "    }\n",
       "</style>\n",
       "<table border=\"1\" class=\"dataframe\">\n",
       "  <thead>\n",
       "    <tr style=\"text-align: right;\">\n",
       "      <th></th>\n",
       "      <th>title</th>\n",
       "      <th>country</th>\n",
       "    </tr>\n",
       "    <tr>\n",
       "      <th>cast</th>\n",
       "      <th></th>\n",
       "      <th></th>\n",
       "    </tr>\n",
       "  </thead>\n",
       "  <tbody>\n",
       "    <tr>\n",
       "      <th>Not Known</th>\n",
       "      <td>350</td>\n",
       "      <td>United States</td>\n",
       "    </tr>\n",
       "    <tr>\n",
       "      <th>Takahiro Sakurai</th>\n",
       "      <td>25</td>\n",
       "      <td>Japan</td>\n",
       "    </tr>\n",
       "    <tr>\n",
       "      <th>Yuki Kaji</th>\n",
       "      <td>19</td>\n",
       "      <td>Japan</td>\n",
       "    </tr>\n",
       "    <tr>\n",
       "      <th>Ai Kayano</th>\n",
       "      <td>17</td>\n",
       "      <td>Japan</td>\n",
       "    </tr>\n",
       "    <tr>\n",
       "      <th>Junichi Suwabe</th>\n",
       "      <td>17</td>\n",
       "      <td>Japan</td>\n",
       "    </tr>\n",
       "    <tr>\n",
       "      <th>...</th>\n",
       "      <td>...</td>\n",
       "      <td>...</td>\n",
       "    </tr>\n",
       "    <tr>\n",
       "      <th>Ivy Yin</th>\n",
       "      <td>1</td>\n",
       "      <td>Taiwan</td>\n",
       "    </tr>\n",
       "    <tr>\n",
       "      <th>Iván Pellicer</th>\n",
       "      <td>1</td>\n",
       "      <td>Spain</td>\n",
       "    </tr>\n",
       "    <tr>\n",
       "      <th>Iván Álvarez de Araya</th>\n",
       "      <td>1</td>\n",
       "      <td>Chile</td>\n",
       "    </tr>\n",
       "    <tr>\n",
       "      <th>Iza Moreira</th>\n",
       "      <td>1</td>\n",
       "      <td>Brazil</td>\n",
       "    </tr>\n",
       "    <tr>\n",
       "      <th>Şükrü Özyıldız</th>\n",
       "      <td>1</td>\n",
       "      <td>Turkey</td>\n",
       "    </tr>\n",
       "  </tbody>\n",
       "</table>\n",
       "<p>14864 rows × 2 columns</p>\n",
       "</div>"
      ],
      "text/plain": [
       "                       title        country\n",
       "cast                                       \n",
       "Not Known                350  United States\n",
       "Takahiro Sakurai          25          Japan\n",
       "Yuki Kaji                 19          Japan\n",
       "Ai Kayano                 17          Japan\n",
       "Junichi Suwabe            17          Japan\n",
       "...                      ...            ...\n",
       "Ivy Yin                    1         Taiwan\n",
       "Iván Pellicer              1          Spain\n",
       "Iván Álvarez de Araya      1          Chile\n",
       "Iza Moreira                1         Brazil\n",
       "Şükrü Özyıldız             1         Turkey\n",
       "\n",
       "[14864 rows x 2 columns]"
      ]
     },
     "execution_count": 38,
     "metadata": {},
     "output_type": "execute_result"
    }
   ],
   "source": [
    "df[df[\"type\"]==\"TV Show\"].groupby(\"cast\").agg({\"title\":\"nunique\",\"country\": pd.Series.mode}).sort_values(by=\"title\",ascending=False)"
   ]
  },
  {
   "cell_type": "markdown",
   "id": "a3a58d41",
   "metadata": {},
   "source": [
    "Takahiro Sakurai, Yuki Kaji and Ai Kayano are the popular TV Show actors with respect to the number of titles. The top 5 names are from Japan"
   ]
  },
  {
   "cell_type": "code",
   "execution_count": 39,
   "id": "c10981b0",
   "metadata": {},
   "outputs": [
    {
     "name": "stderr",
     "output_type": "stream",
     "text": [
      "C:\\ProgramData\\Anaconda3\\lib\\site-packages\\seaborn\\_decorators.py:36: FutureWarning: Pass the following variables as keyword args: x, y. From version 0.12, the only valid positional argument will be `data`, and passing other arguments without an explicit keyword will result in an error or misinterpretation.\n",
      "  warnings.warn(\n"
     ]
    },
    {
     "data": {
      "image/png": "[encoded data removed]",
      "text/plain": [
       "<Figure size 432x288 with 1 Axes>"
      ]
     },
     "metadata": {
      "needs_background": "light"
     },
     "output_type": "display_data"
    }
   ],
   "source": [
    "a=df[df[\"release_year\"]>=2017].groupby(\"cast\")[\"title\"].nunique().sort_values(ascending=False)\n",
    "a=a[1:11]\n",
    "sns.barplot(a.values,a.index)\n",
    "plt.title(\"Top 10 Actors - Most number of movies/TV shows released after 2017\")\n",
    "plt.show()"
   ]
  },
  {
   "cell_type": "code",
   "execution_count": 40,
   "id": "23c07fcc",
   "metadata": {},
   "outputs": [
    {
     "name": "stderr",
     "output_type": "stream",
     "text": [
      "C:\\ProgramData\\Anaconda3\\lib\\site-packages\\seaborn\\_decorators.py:36: FutureWarning: Pass the following variables as keyword args: x, y. From version 0.12, the only valid positional argument will be `data`, and passing other arguments without an explicit keyword will result in an error or misinterpretation.\n",
      "  warnings.warn(\n"
     ]
    },
    {
     "data": {
      "image/png": "[encoded data removed]",
      "text/plain": [
       "<Figure size 432x288 with 1 Axes>"
      ]
     },
     "metadata": {
      "needs_background": "light"
     },
     "output_type": "display_data"
    }
   ],
   "source": [
    "a=df[(df[\"release_year\"]>=2017) & (df[\"country\"]==\"India\")].groupby(\"cast\")[\"title\"].nunique().sort_values(ascending=False)\n",
    "a=a[1:11]\n",
    "sns.barplot(a.values,a.index)\n",
    "plt.title(\"Top 10 Indian Actors - Most number of movies/TV shows released after 2017\")\n",
    "plt.show()"
   ]
  },
  {
   "cell_type": "markdown",
   "id": "90b1690c",
   "metadata": {},
   "source": [
    "Vincent Tong is the most popular actor with most number of releases in the last 5 years. In India, Nawazuddin Siddiqui holds the top spot for the same."
   ]
  },
  {
   "cell_type": "code",
   "execution_count": 42,
   "id": "2c9ce02d",
   "metadata": {},
   "outputs": [
    {
     "data": {
      "text/plain": [
       "cast          director                 \n",
       "Anupam Kher   David Dhawan                 6\n",
       "Salman Khan   Sooraj R. Barjatya           5\n",
       "Alok Nath     Sooraj R. Barjatya           5\n",
       "Rajpal Yadav  Priyadarshan                 4\n",
       "Ajay Devgn    Prakash Jha                  4\n",
       "                                          ..\n",
       "Johny Lever   Rahul Rawail                 1\n",
       "              Neeraj Vora                  1\n",
       "              Mastan Alibhai Burmawalla    1\n",
       "              Khalid Mohamed               1\n",
       "Şafak Sezer   Sermiyan Midyat              1\n",
       "Name: title, Length: 7470, dtype: int64"
      ]
     },
     "execution_count": 42,
     "metadata": {},
     "output_type": "execute_result"
    }
   ],
   "source": [
    "a=df[(df[\"type\"]==\"Movie\") & (df[\"country\"]==\"India\")].groupby([\"cast\",\"director\"])[\"title\"].nunique().sort_values(ascending=False)\n",
    "a"
   ]
  },
  {
   "cell_type": "markdown",
   "id": "7dbbfcf8",
   "metadata": {},
   "source": [
    "Anupam Kher and David Dhawan is the hit actor-director pair with 6 titles between them."
   ]
  },
  {
   "cell_type": "code",
   "execution_count": 43,
   "id": "59bcbf41",
   "metadata": {},
   "outputs": [
    {
     "name": "stderr",
     "output_type": "stream",
     "text": [
      "C:\\ProgramData\\Anaconda3\\lib\\site-packages\\seaborn\\_decorators.py:36: FutureWarning: Pass the following variables as keyword args: x, y. From version 0.12, the only valid positional argument will be `data`, and passing other arguments without an explicit keyword will result in an error or misinterpretation.\n",
      "  warnings.warn(\n"
     ]
    },
    {
     "data": {
      "image/png": "[encoded data removed]",
      "text/plain": [
       "<Figure size 720x360 with 1 Axes>"
      ]
     },
     "metadata": {
      "needs_background": "light"
     },
     "output_type": "display_data"
    }
   ],
   "source": [
    "a=df[df[\"type\"]==\"Movie\"].groupby(\"director\")[\"title\"].nunique().sort_values(ascending=False)\n",
    "a=a[1:6]\n",
    "fig,ax=plt.subplots(figsize=(10,5))\n",
    "sns.barplot(a.index,a.values)\n",
    "plt.title(\"Top 5 Popular Directors - Movies\")\n",
    "plt.show()"
   ]
  },
  {
   "cell_type": "code",
   "execution_count": 44,
   "id": "54cbc7ea",
   "metadata": {},
   "outputs": [
    {
     "name": "stderr",
     "output_type": "stream",
     "text": [
      "C:\\ProgramData\\Anaconda3\\lib\\site-packages\\seaborn\\_decorators.py:36: FutureWarning: Pass the following variables as keyword args: x, y. From version 0.12, the only valid positional argument will be `data`, and passing other arguments without an explicit keyword will result in an error or misinterpretation.\n",
      "  warnings.warn(\n"
     ]
    },
    {
     "data": {
      "image/png": "[encoded data removed]",
      "text/plain": [
       "<Figure size 720x360 with 1 Axes>"
      ]
     },
     "metadata": {
      "needs_background": "light"
     },
     "output_type": "display_data"
    }
   ],
   "source": [
    "a=df[df[\"type\"]==\"TV Show\"].groupby(\"director\")[\"title\"].nunique().sort_values(ascending=False)\n",
    "a=a[1:6]\n",
    "fig,ax=plt.subplots(figsize=(10,5))\n",
    "sns.barplot(a.index,a.values)\n",
    "plt.title(\"Top 5 Popular Directors - TV Shows\")\n",
    "plt.show()"
   ]
  },
  {
   "cell_type": "markdown",
   "id": "dd2d2242",
   "metadata": {},
   "source": [
    "Rajiv Chilaka is the most popular Movie Director and Ken Burns and Alastair Fothergill share the spot in TV Shows"
   ]
  },
  {
   "cell_type": "code",
   "execution_count": 45,
   "id": "b786787c",
   "metadata": {},
   "outputs": [
    {
     "data": {
      "text/html": [
       "<div>\n",
       "<style scoped>\n",
       "    .dataframe tbody tr th:only-of-type {\n",
       "        vertical-align: middle;\n",
       "    }\n",
       "\n",
       "    .dataframe tbody tr th {\n",
       "        vertical-align: top;\n",
       "    }\n",
       "\n",
       "    .dataframe thead th {\n",
       "        text-align: right;\n",
       "    }\n",
       "</style>\n",
       "<table border=\"1\" class=\"dataframe\">\n",
       "  <thead>\n",
       "    <tr style=\"text-align: right;\">\n",
       "      <th></th>\n",
       "      <th>duration</th>\n",
       "    </tr>\n",
       "    <tr>\n",
       "      <th>director</th>\n",
       "      <th></th>\n",
       "    </tr>\n",
       "  </thead>\n",
       "  <tbody>\n",
       "    <tr>\n",
       "      <th>Not Known</th>\n",
       "      <td>17.0</td>\n",
       "    </tr>\n",
       "    <tr>\n",
       "      <th>Phil Sgriccia</th>\n",
       "      <td>15.0</td>\n",
       "    </tr>\n",
       "    <tr>\n",
       "      <th>Hayato Date</th>\n",
       "      <td>9.0</td>\n",
       "    </tr>\n",
       "    <tr>\n",
       "      <th>Philippa Lowthorpe</th>\n",
       "      <td>9.0</td>\n",
       "    </tr>\n",
       "    <tr>\n",
       "      <th>Andy Devonshire</th>\n",
       "      <td>9.0</td>\n",
       "    </tr>\n",
       "    <tr>\n",
       "      <th>...</th>\n",
       "      <td>...</td>\n",
       "    </tr>\n",
       "    <tr>\n",
       "      <th>Javier Gómez Santander</th>\n",
       "      <td>1.0</td>\n",
       "    </tr>\n",
       "    <tr>\n",
       "      <th>Jay Oliva</th>\n",
       "      <td>1.0</td>\n",
       "    </tr>\n",
       "    <tr>\n",
       "      <th>Jenner Furst</th>\n",
       "      <td>1.0</td>\n",
       "    </tr>\n",
       "    <tr>\n",
       "      <th>Jeon Go-woon</th>\n",
       "      <td>1.0</td>\n",
       "    </tr>\n",
       "    <tr>\n",
       "      <th>Ziad Doueiri</th>\n",
       "      <td>1.0</td>\n",
       "    </tr>\n",
       "  </tbody>\n",
       "</table>\n",
       "<p>300 rows × 1 columns</p>\n",
       "</div>"
      ],
      "text/plain": [
       "                        duration\n",
       "director                        \n",
       "Not Known                   17.0\n",
       "Phil Sgriccia               15.0\n",
       "Hayato Date                  9.0\n",
       "Philippa Lowthorpe           9.0\n",
       "Andy Devonshire              9.0\n",
       "...                          ...\n",
       "Javier Gómez Santander       1.0\n",
       "Jay Oliva                    1.0\n",
       "Jenner Furst                 1.0\n",
       "Jeon Go-woon                 1.0\n",
       "Ziad Doueiri                 1.0\n",
       "\n",
       "[300 rows x 1 columns]"
      ]
     },
     "execution_count": 45,
     "metadata": {},
     "output_type": "execute_result"
    }
   ],
   "source": [
    "a=df[(df[\"type\"]==\"TV Show\")].groupby(\"director\").agg({\"duration\" : \"max\"}).sort_values(by=\"duration\",ascending=False)\n",
    "a"
   ]
  },
  {
   "cell_type": "code",
   "execution_count": 46,
   "id": "779c2bb0",
   "metadata": {},
   "outputs": [
    {
     "data": {
      "text/html": [
       "<div>\n",
       "<style scoped>\n",
       "    .dataframe tbody tr th:only-of-type {\n",
       "        vertical-align: middle;\n",
       "    }\n",
       "\n",
       "    .dataframe tbody tr th {\n",
       "        vertical-align: top;\n",
       "    }\n",
       "\n",
       "    .dataframe thead th {\n",
       "        text-align: right;\n",
       "    }\n",
       "</style>\n",
       "<table border=\"1\" class=\"dataframe\">\n",
       "  <thead>\n",
       "    <tr style=\"text-align: right;\">\n",
       "      <th></th>\n",
       "      <th>show_id</th>\n",
       "      <th>type</th>\n",
       "      <th>title</th>\n",
       "      <th>date_added</th>\n",
       "      <th>release_year</th>\n",
       "      <th>rating</th>\n",
       "      <th>description</th>\n",
       "      <th>duration</th>\n",
       "      <th>duration_metric</th>\n",
       "      <th>cast</th>\n",
       "      <th>director</th>\n",
       "      <th>listed_in</th>\n",
       "      <th>country</th>\n",
       "    </tr>\n",
       "  </thead>\n",
       "  <tbody>\n",
       "    <tr>\n",
       "      <th>57639</th>\n",
       "      <td>s2424</td>\n",
       "      <td>TV Show</td>\n",
       "      <td>Supernatural</td>\n",
       "      <td>2020-06-05 00:00:00</td>\n",
       "      <td>2019</td>\n",
       "      <td>TV-14</td>\n",
       "      <td>Siblings Dean and Sam crisscross the country, ...</td>\n",
       "      <td>15.0</td>\n",
       "      <td>Season</td>\n",
       "      <td>Jared Padalecki</td>\n",
       "      <td>Phil Sgriccia</td>\n",
       "      <td>Classic &amp; Cult TV</td>\n",
       "      <td>United States</td>\n",
       "    </tr>\n",
       "    <tr>\n",
       "      <th>57640</th>\n",
       "      <td>s2424</td>\n",
       "      <td>TV Show</td>\n",
       "      <td>Supernatural</td>\n",
       "      <td>2020-06-05 00:00:00</td>\n",
       "      <td>2019</td>\n",
       "      <td>TV-14</td>\n",
       "      <td>Siblings Dean and Sam crisscross the country, ...</td>\n",
       "      <td>15.0</td>\n",
       "      <td>Season</td>\n",
       "      <td>Jared Padalecki</td>\n",
       "      <td>Phil Sgriccia</td>\n",
       "      <td>Classic &amp; Cult TV</td>\n",
       "      <td>Canada</td>\n",
       "    </tr>\n",
       "  </tbody>\n",
       "</table>\n",
       "</div>"
      ],
      "text/plain": [
       "      show_id     type         title           date_added  release_year  \\\n",
       "57639   s2424  TV Show  Supernatural  2020-06-05 00:00:00          2019   \n",
       "57640   s2424  TV Show  Supernatural  2020-06-05 00:00:00          2019   \n",
       "\n",
       "      rating                                        description  duration  \\\n",
       "57639  TV-14  Siblings Dean and Sam crisscross the country, ...      15.0   \n",
       "57640  TV-14  Siblings Dean and Sam crisscross the country, ...      15.0   \n",
       "\n",
       "      duration_metric             cast       director          listed_in  \\\n",
       "57639          Season  Jared Padalecki  Phil Sgriccia  Classic & Cult TV   \n",
       "57640          Season  Jared Padalecki  Phil Sgriccia  Classic & Cult TV   \n",
       "\n",
       "             country  \n",
       "57639  United States  \n",
       "57640         Canada  "
      ]
     },
     "execution_count": 46,
     "metadata": {},
     "output_type": "execute_result"
    }
   ],
   "source": [
    "df[df[\"director\"]==\"Phil Sgriccia\"].iloc[:2]"
   ]
  },
  {
   "cell_type": "markdown",
   "id": "f294b39f",
   "metadata": {},
   "source": [
    "The TV Show that was renewed for the maximum number of Seasons is Supernatural directed by Phil Sgriccia and it ran for a whopping 15 seasons"
   ]
  },
  {
   "cell_type": "code",
   "execution_count": 47,
   "id": "0f8bd672",
   "metadata": {},
   "outputs": [
    {
     "name": "stderr",
     "output_type": "stream",
     "text": [
      "C:\\ProgramData\\Anaconda3\\lib\\site-packages\\seaborn\\_decorators.py:36: FutureWarning: Pass the following variables as keyword args: x, y. From version 0.12, the only valid positional argument will be `data`, and passing other arguments without an explicit keyword will result in an error or misinterpretation.\n",
      "  warnings.warn(\n"
     ]
    },
    {
     "data": {
      "image/png": "[encoded data removed]",
      "text/plain": [
       "<Figure size 432x288 with 1 Axes>"
      ]
     },
     "metadata": {
      "needs_background": "light"
     },
     "output_type": "display_data"
    }
   ],
   "source": [
    "a=df[df[\"release_year\"]>=2017].groupby(\"director\")[\"title\"].nunique().sort_values(ascending=False)\n",
    "a=a[1:11]\n",
    "sns.barplot(a.values,a.index)\n",
    "plt.title(\"Top 10 Directors - Most number of movies/TV shows released after 2017\")\n",
    "plt.show()"
   ]
  },
  {
   "cell_type": "code",
   "execution_count": 48,
   "id": "bd732876",
   "metadata": {},
   "outputs": [
    {
     "name": "stderr",
     "output_type": "stream",
     "text": [
      "C:\\ProgramData\\Anaconda3\\lib\\site-packages\\seaborn\\_decorators.py:36: FutureWarning: Pass the following variables as keyword args: x, y. From version 0.12, the only valid positional argument will be `data`, and passing other arguments without an explicit keyword will result in an error or misinterpretation.\n",
      "  warnings.warn(\n"
     ]
    },
    {
     "data": {
      "image/png": "[encoded data removed]",
      "text/plain": [
       "<Figure size 432x288 with 1 Axes>"
      ]
     },
     "metadata": {
      "needs_background": "light"
     },
     "output_type": "display_data"
    }
   ],
   "source": [
    "a=df[(df[\"release_year\"]>=2017) & (df[\"country\"]==\"India\")].groupby(\"director\")[\"title\"].nunique().sort_values(ascending=False)\n",
    "a=a[1:11]\n",
    "sns.barplot(a.values,a.index)\n",
    "plt.title(\"Top 10 Indian Directors - Most number of movies/TV shows released after 2017\")\n",
    "plt.show()"
   ]
  },
  {
   "cell_type": "markdown",
   "id": "b8ebb446",
   "metadata": {},
   "source": [
    "Jan Suter is the most popular director with most number of releases in the last 5 years. In India, Anurag Kashyap holds the top spot for the same."
   ]
  },
  {
   "cell_type": "code",
   "execution_count": 49,
   "id": "151dc794",
   "metadata": {},
   "outputs": [
    {
     "name": "stderr",
     "output_type": "stream",
     "text": [
      "C:\\ProgramData\\Anaconda3\\lib\\site-packages\\seaborn\\_decorators.py:36: FutureWarning: Pass the following variables as keyword args: x, y. From version 0.12, the only valid positional argument will be `data`, and passing other arguments without an explicit keyword will result in an error or misinterpretation.\n",
      "  warnings.warn(\n"
     ]
    },
    {
     "data": {
      "image/png": "[encoded data removed]",
      "text/plain": [
       "<Figure size 720x360 with 1 Axes>"
      ]
     },
     "metadata": {
      "needs_background": "light"
     },
     "output_type": "display_data"
    }
   ],
   "source": [
    "a=df[df[\"type\"]==\"Movie\"].groupby(\"listed_in\")[\"title\"].nunique().sort_values(ascending=False)\n",
    "fig,ax=plt.subplots(figsize=(10,5))\n",
    "sns.barplot(a.values,a.index)\n",
    "plt.title(\"Frequency Distribution of Genres - Movies\")\n",
    "plt.show()"
   ]
  },
  {
   "cell_type": "code",
   "execution_count": 50,
   "id": "5b9e54f2",
   "metadata": {},
   "outputs": [
    {
     "name": "stderr",
     "output_type": "stream",
     "text": [
      "C:\\ProgramData\\Anaconda3\\lib\\site-packages\\seaborn\\_decorators.py:36: FutureWarning: Pass the following variables as keyword args: x, y. From version 0.12, the only valid positional argument will be `data`, and passing other arguments without an explicit keyword will result in an error or misinterpretation.\n",
      "  warnings.warn(\n"
     ]
    },
    {
     "data": {
      "image/png": "[encoded data removed]",
      "text/plain": [
       "<Figure size 720x360 with 1 Axes>"
      ]
     },
     "metadata": {
      "needs_background": "light"
     },
     "output_type": "display_data"
    }
   ],
   "source": [
    "a=df[df[\"type\"]==\"TV Show\"].groupby(\"listed_in\")[\"title\"].nunique().sort_values(ascending=False)\n",
    "fig,ax=plt.subplots(figsize=(10,5))\n",
    "sns.barplot(a.values,a.index)\n",
    "plt.title(\"Frequency Distribution of Genres - TV Shows\")\n",
    "plt.show()"
   ]
  },
  {
   "cell_type": "markdown",
   "id": "3fc3254d",
   "metadata": {},
   "source": [
    "International Shows, Dramas and Comedies are the most added categories on Netflix in both Movies and TV Shows"
   ]
  },
  {
   "cell_type": "code",
   "execution_count": 51,
   "id": "cde81eef",
   "metadata": {},
   "outputs": [
    {
     "name": "stderr",
     "output_type": "stream",
     "text": [
      "C:\\ProgramData\\Anaconda3\\lib\\site-packages\\seaborn\\_decorators.py:36: FutureWarning: Pass the following variables as keyword args: x, y. From version 0.12, the only valid positional argument will be `data`, and passing other arguments without an explicit keyword will result in an error or misinterpretation.\n",
      "  warnings.warn(\n"
     ]
    },
    {
     "data": {
      "image/png": "[encoded data removed]",
      "text/plain": [
       "<Figure size 432x288 with 1 Axes>"
      ]
     },
     "metadata": {
      "needs_background": "light"
     },
     "output_type": "display_data"
    }
   ],
   "source": [
    "a=df[df[\"type\"]==\"TV Show\"].groupby(\"country\")[\"duration\"].max().sort_values(ascending=False).head(20)\n",
    "a = a[:12]\n",
    "sns.barplot(a.values,a.index)\n",
    "plt.title(\"Top 12 countries - TV Shows with maximum duration \")\n",
    "plt.show()"
   ]
  },
  {
   "cell_type": "code",
   "execution_count": 52,
   "id": "ca83f022",
   "metadata": {},
   "outputs": [
    {
     "data": {
      "text/plain": [
       "rating\n",
       "TV-MA        1376\n",
       "TV-14         727\n",
       "R             671\n",
       "PG-13         441\n",
       "TV-PG         394\n",
       "PG            249\n",
       "TV-Y7         245\n",
       "TV-Y          207\n",
       "TV-G          119\n",
       "NR             43\n",
       "G              39\n",
       "Not Known       4\n",
       "TV-Y7-FV        3\n",
       "NC-17           1\n",
       "UR              1\n",
       "Name: title, dtype: int64"
      ]
     },
     "execution_count": 52,
     "metadata": {},
     "output_type": "execute_result"
    }
   ],
   "source": [
    "a=df[df[\"country\"]==\"United States\"].groupby(\"rating\")[\"title\"].nunique().sort_values(ascending=False)\n",
    "a"
   ]
  },
  {
   "cell_type": "code",
   "execution_count": 53,
   "id": "a752ad8c",
   "metadata": {},
   "outputs": [
    {
     "data": {
      "text/plain": [
       "rating\n",
       "TV-14       572\n",
       "TV-MA       266\n",
       "TV-PG       144\n",
       "TV-Y7        17\n",
       "PG-13        11\n",
       "TV-G         10\n",
       "NR            7\n",
       "PG            7\n",
       "TV-Y          6\n",
       "R             5\n",
       "TV-Y7-FV      1\n",
       "Name: title, dtype: int64"
      ]
     },
     "execution_count": 53,
     "metadata": {},
     "output_type": "execute_result"
    }
   ],
   "source": [
    "a=df[df[\"country\"]==\"India\"].groupby(\"rating\")[\"title\"].nunique().sort_values(ascending=False)\n",
    "a"
   ]
  },
  {
   "cell_type": "code",
   "execution_count": 54,
   "id": "62032cad",
   "metadata": {},
   "outputs": [
    {
     "data": {
      "text/plain": [
       "rating\n",
       "TV-MA        101\n",
       "TV-14         99\n",
       "TV-PG         50\n",
       "TV-Y7         32\n",
       "PG            11\n",
       "PG-13          9\n",
       "R              9\n",
       "TV-Y           3\n",
       "TV-G           2\n",
       "G              1\n",
       "Not Known      1\n",
       "Name: title, dtype: int64"
      ]
     },
     "execution_count": 54,
     "metadata": {},
     "output_type": "execute_result"
    }
   ],
   "source": [
    "a=df[df[\"country\"]==\"Japan\"].groupby(\"rating\")[\"title\"].nunique().sort_values(ascending=False)\n",
    "a"
   ]
  },
  {
   "cell_type": "code",
   "execution_count": 55,
   "id": "aa3876a4",
   "metadata": {},
   "outputs": [
    {
     "data": {
      "text/plain": [
       "rating\n",
       "TV-14    19\n",
       "TV-MA    12\n",
       "R         4\n",
       "TV-PG     3\n",
       "TV-Y      2\n",
       "TV-Y7     1\n",
       "Name: title, dtype: int64"
      ]
     },
     "execution_count": 55,
     "metadata": {},
     "output_type": "execute_result"
    }
   ],
   "source": [
    "a=df[df[\"country\"]==\"Singapore\"].groupby(\"rating\")[\"title\"].nunique().sort_values(ascending=False)\n",
    "a"
   ]
  },
  {
   "cell_type": "code",
   "execution_count": 56,
   "id": "8525f812",
   "metadata": {},
   "outputs": [
    {
     "data": {
      "text/plain": [
       "rating\n",
       "TV-MA       23\n",
       "R            5\n",
       "TV-14        4\n",
       "PG-13        3\n",
       "TV-G         3\n",
       "TV-PG        3\n",
       "NR           2\n",
       "TV-Y         2\n",
       "TV-Y7        2\n",
       "TV-Y7-FV     1\n",
       "Name: title, dtype: int64"
      ]
     },
     "execution_count": 56,
     "metadata": {},
     "output_type": "execute_result"
    }
   ],
   "source": [
    "a=df[df[\"country\"]==\"Denmark\"].groupby(\"rating\")[\"title\"].nunique().sort_values(ascending=False)\n",
    "a"
   ]
  },
  {
   "cell_type": "code",
   "execution_count": 57,
   "id": "55518de3",
   "metadata": {},
   "outputs": [
    {
     "data": {
      "text/plain": [
       "rating\n",
       "TV-MA    251\n",
       "R        145\n",
       "TV-14    103\n",
       "TV-PG     98\n",
       "PG-13     84\n",
       "PG        35\n",
       "TV-Y      34\n",
       "TV-G      25\n",
       "NR        12\n",
       "TV-Y7     12\n",
       "G          4\n",
       "UR         1\n",
       "Name: title, dtype: int64"
      ]
     },
     "execution_count": 57,
     "metadata": {},
     "output_type": "execute_result"
    }
   ],
   "source": [
    "a=df[df[\"country\"]==\"United Kingdom\"].groupby(\"rating\")[\"title\"].nunique().sort_values(ascending=False)\n",
    "a"
   ]
  },
  {
   "cell_type": "markdown",
   "id": "8e50a783",
   "metadata": {},
   "source": [
    "1. Apart from US and Canada, there are countries like Singapore, Denmark, UK, Japan etc. that had very popular TV shows which ran for more than 9 Seasons.\n",
    "2. TV-MA is the most popular rating across these countries except for Singapore where TV-14 is the popular rating."
   ]
  },
  {
   "cell_type": "code",
   "execution_count": 58,
   "id": "d5d4fb2b",
   "metadata": {},
   "outputs": [
    {
     "data": {
      "text/plain": [
       "listed_in\n",
       "International TV Shows          151\n",
       "Anime Series                    143\n",
       "International Movies             72\n",
       "Anime Features                   61\n",
       "Action & Adventure               57\n",
       "Kids' TV                         29\n",
       "Dramas                           23\n",
       "Romantic TV Shows                21\n",
       "TV Dramas                        21\n",
       "Children & Family Movies         19\n",
       "Crime TV Shows                   16\n",
       "Teen TV Shows                    14\n",
       "TV Comedies                      10\n",
       "Comedies                          9\n",
       "Reality TV                        9\n",
       "Sci-Fi & Fantasy                  9\n",
       "Independent Movies                7\n",
       "Documentaries                     7\n",
       "Romantic Movies                   7\n",
       "Music & Musicals                  6\n",
       "TV Thrillers                      6\n",
       "TV Action & Adventure             5\n",
       "TV Horror                         5\n",
       "Thrillers                         5\n",
       "Horror Movies                     4\n",
       "TV Mysteries                      4\n",
       "Classic Movies                    3\n",
       "Docuseries                        2\n",
       "Movies                            2\n",
       "British TV Shows                  1\n",
       "Cult Movies                       1\n",
       "LGBTQ Movies                      1\n",
       "Sports Movies                     1\n",
       "Stand-Up Comedy & Talk Shows      1\n",
       "TV Shows                          1\n",
       "Name: title, dtype: int64"
      ]
     },
     "execution_count": 58,
     "metadata": {},
     "output_type": "execute_result"
    }
   ],
   "source": [
    "a=df.groupby([\"country\",\"listed_in\"])[\"title\"].nunique().sort_values(ascending=False)[\"Japan\"]\n",
    "a"
   ]
  },
  {
   "cell_type": "code",
   "execution_count": 59,
   "id": "2cd744ea",
   "metadata": {},
   "outputs": [
    {
     "data": {
      "text/plain": [
       "listed_in\n",
       "International TV Shows    19\n",
       "TV Dramas                 15\n",
       "International Movies      14\n",
       "Dramas                     7\n",
       "Crime TV Shows             5\n",
       "Action & Adventure         5\n",
       "Romantic TV Shows          5\n",
       "Kids' TV                   3\n",
       "Thrillers                  3\n",
       "Horror Movies              3\n",
       "TV Comedies                2\n",
       "TV Horror                  2\n",
       "Reality TV                 2\n",
       "Korean TV Shows            1\n",
       "TV Sci-Fi & Fantasy        1\n",
       "Sci-Fi & Fantasy           1\n",
       "Romantic Movies            1\n",
       "Stand-Up Comedy            1\n",
       "Independent Movies         1\n",
       "Documentaries              1\n",
       "Anime Series               1\n",
       "Cult Movies                1\n",
       "Name: title, dtype: int64"
      ]
     },
     "execution_count": 59,
     "metadata": {},
     "output_type": "execute_result"
    }
   ],
   "source": [
    "a=df.groupby([\"country\",\"listed_in\"])[\"title\"].nunique().sort_values(ascending=False)[\"Singapore\"]\n",
    "a"
   ]
  },
  {
   "cell_type": "code",
   "execution_count": 60,
   "id": "a5192f2b",
   "metadata": {},
   "outputs": [
    {
     "data": {
      "text/plain": [
       "listed_in\n",
       "International Movies        23\n",
       "Dramas                      16\n",
       "Documentaries               11\n",
       "International TV Shows      10\n",
       "Independent Movies           9\n",
       "TV Dramas                    8\n",
       "Thrillers                    5\n",
       "Kids' TV                     4\n",
       "Children & Family Movies     3\n",
       "TV Comedies                  3\n",
       "Action & Adventure           3\n",
       "TV Mysteries                 2\n",
       "Crime TV Shows               2\n",
       "Romantic Movies              2\n",
       "Sports Movies                2\n",
       "Comedies                     1\n",
       "Cult Movies                  1\n",
       "Docuseries                   1\n",
       "TV Action & Adventure        1\n",
       "TV Thrillers                 1\n",
       "Name: title, dtype: int64"
      ]
     },
     "execution_count": 60,
     "metadata": {},
     "output_type": "execute_result"
    }
   ],
   "source": [
    "a=df.groupby([\"country\",\"listed_in\"])[\"title\"].nunique().sort_values(ascending=False)[\"Denmark\"]\n",
    "a"
   ]
  },
  {
   "cell_type": "code",
   "execution_count": 61,
   "id": "316873f7",
   "metadata": {},
   "outputs": [
    {
     "data": {
      "text/plain": [
       "listed_in\n",
       "British TV Shows                225\n",
       "Dramas                          196\n",
       "International Movies            168\n",
       "International TV Shows          128\n",
       "Documentaries                   127\n",
       "Comedies                         91\n",
       "Docuseries                       89\n",
       "Action & Adventure               84\n",
       "Independent Movies               74\n",
       "Thrillers                        61\n",
       "Crime TV Shows                   48\n",
       "Children & Family Movies         46\n",
       "TV Comedies                      44\n",
       "Kids' TV                         43\n",
       "Romantic Movies                  38\n",
       "Music & Musicals                 36\n",
       "TV Dramas                        36\n",
       "Sci-Fi & Fantasy                 35\n",
       "Reality TV                       35\n",
       "Horror Movies                    28\n",
       "Science & Nature TV              27\n",
       "Stand-Up Comedy                  21\n",
       "Sports Movies                    21\n",
       "Classic Movies                   16\n",
       "Romantic TV Shows                11\n",
       "TV Action & Adventure             9\n",
       "LGBTQ Movies                      7\n",
       "Classic & Cult TV                 7\n",
       "Cult Movies                       7\n",
       "Faith & Spirituality              5\n",
       "TV Sci-Fi & Fantasy               4\n",
       "Movies                            4\n",
       "TV Horror                         2\n",
       "TV Mysteries                      2\n",
       "TV Thrillers                      2\n",
       "Stand-Up Comedy & Talk Shows      1\n",
       "Spanish-Language TV Shows         1\n",
       "Name: title, dtype: int64"
      ]
     },
     "execution_count": 61,
     "metadata": {},
     "output_type": "execute_result"
    }
   ],
   "source": [
    "a=df.groupby([\"country\",\"listed_in\"])[\"title\"].nunique().sort_values(ascending=False)[\"United Kingdom\"]\n",
    "a"
   ]
  },
  {
   "cell_type": "code",
   "execution_count": null,
   "id": "db8adad8",
   "metadata": {},
   "outputs": [],
   "source": []
  }
 ],
 "metadata": {
  "kernelspec": {
   "display_name": "Python 3 (ipykernel)",
   "language": "python",
   "name": "python3"
  },
  "language_info": {
   "codemirror_mode": {
    "name": "ipython",
    "version": 3
   },
   "file_extension": ".py",
   "mimetype": "text/x-python",
   "name": "python",
   "nbconvert_exporter": "python",
   "pygments_lexer": "ipython3",
   "version": "3.9.7"
  }
 },
 "nbformat": 4,
 "nbformat_minor": 5
}
